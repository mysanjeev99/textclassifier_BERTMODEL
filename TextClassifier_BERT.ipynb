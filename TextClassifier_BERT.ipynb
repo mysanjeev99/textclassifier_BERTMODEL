{
 "cells": [
  {
   "cell_type": "markdown",
   "metadata": {},
   "source": [
    "## Libraries to import"
   ]
  },
  {
   "cell_type": "code",
   "execution_count": 1,
   "metadata": {},
   "outputs": [
    {
     "name": "stderr",
     "output_type": "stream",
     "text": [
      "c:\\Python310\\lib\\site-packages\\tqdm\\auto.py:21: TqdmWarning: IProgress not found. Please update jupyter and ipywidgets. See https://ipywidgets.readthedocs.io/en/stable/user_install.html\n",
      "  from .autonotebook import tqdm as notebook_tqdm\n"
     ]
    }
   ],
   "source": [
    "import pandas as pd\n",
    "import numpy as np\n",
    "import matplotlib.pyplot as plt\n",
    "\n",
    "import transformers\n",
    "from transformers import BertTokenizer\n",
    "from transformers import TFAutoModel\n",
    "import tensorflow as tf"
   ]
  },
  {
   "cell_type": "markdown",
   "metadata": {},
   "source": [
    "## Load Data and Split"
   ]
  },
  {
   "cell_type": "code",
   "execution_count": 2,
   "metadata": {},
   "outputs": [],
   "source": [
    "file = pd.read_csv('articles.csv', keep_default_na=True, encoding='cp1252')\n",
    "l1 = file[file['Tonality'].notna()]\n",
    "data = l1[l1['Article.Description'].notna()]\n",
    "data ['Tonality'] = data['Tonality'].map({'Positive': 1, 'Negative': 0, 'Neutral':0})\n",
    "data['Tonality'] = data['Tonality'].astype('Int64')\n",
    "\n",
    "from sklearn.model_selection import train_test_split\n",
    "train_df, test_df = train_test_split(data, test_size=0.2)\n",
    "\n",
    "\n",
    "train_df.to_csv('train_df.csv')\n",
    "test_df.to_csv('test_df.csv')\n",
    "\n",
    "data = pd.read_csv('train_df.csv')"
   ]
  },
  {
   "cell_type": "markdown",
   "metadata": {},
   "source": [
    "## Preprocess"
   ]
  },
  {
   "cell_type": "code",
   "execution_count": 3,
   "metadata": {},
   "outputs": [
    {
     "data": {
      "text/html": [
       "<div>\n",
       "<style scoped>\n",
       "    .dataframe tbody tr th:only-of-type {\n",
       "        vertical-align: middle;\n",
       "    }\n",
       "\n",
       "    .dataframe tbody tr th {\n",
       "        vertical-align: top;\n",
       "    }\n",
       "\n",
       "    .dataframe thead th {\n",
       "        text-align: right;\n",
       "    }\n",
       "</style>\n",
       "<table border=\"1\" class=\"dataframe\">\n",
       "  <thead>\n",
       "    <tr style=\"text-align: right;\">\n",
       "      <th></th>\n",
       "      <th>Id</th>\n",
       "      <th>Heading</th>\n",
       "      <th>Article.Banner.Image</th>\n",
       "      <th>Outlets</th>\n",
       "      <th>Article.Description</th>\n",
       "      <th>Full_Article</th>\n",
       "      <th>Article_Type</th>\n",
       "      <th>Tonality</th>\n",
       "    </tr>\n",
       "  </thead>\n",
       "  <tbody>\n",
       "    <tr>\n",
       "      <th>2851</th>\n",
       "      <td>4ce04c2a-a946-4365-bb80-97585146c430</td>\n",
       "      <td>Apache Deliveries Sharply Lower Pending Safety...</td>\n",
       "      <td>https://www.flightglobal.com/assets/getasset.a...</td>\n",
       "      <td>FlightGlobal</td>\n",
       "      <td>boeing has replaced about 25 percent of the st...</td>\n",
       "      <td>&lt;p&gt;Boeing has replaced about 25 percent of the...</td>\n",
       "      <td>Military</td>\n",
       "      <td>0</td>\n",
       "    </tr>\n",
       "    <tr>\n",
       "      <th>594</th>\n",
       "      <td>c3df1ef3-df1f-4442-bb95-0f1c096665a4</td>\n",
       "      <td>Mercedes Vision URBANETIC Unveiled at CES 2019</td>\n",
       "      <td>https://www.geeky-gadgets.com/wp-content/uploa...</td>\n",
       "      <td>Geeky Gadgets</td>\n",
       "      <td>mercedes benz has unveiled a new concept car a...</td>\n",
       "      <td>&lt;p&gt;Mercedes Benz has unveiled a new concept ca...</td>\n",
       "      <td>Commercial</td>\n",
       "      <td>1</td>\n",
       "    </tr>\n",
       "    <tr>\n",
       "      <th>11</th>\n",
       "      <td>e1902fb9-ba3e-4262-a94e-302ecdeebfba</td>\n",
       "      <td>Bell Nexus full-scale air taxi design debuts, ...</td>\n",
       "      <td>https://www.sae.org/binaries/content/gallery/c...</td>\n",
       "      <td>SAE International</td>\n",
       "      <td>bell, safran, eps, thales, moog, and garmin co...</td>\n",
       "      <td>&lt;p&gt;Bell, Safran, EPS, Thales, Moog, and Garmin...</td>\n",
       "      <td>Commercial</td>\n",
       "      <td>1</td>\n",
       "    </tr>\n",
       "    <tr>\n",
       "      <th>1669</th>\n",
       "      <td>bd90f827-ca86-461a-8767-cc444fb089f5</td>\n",
       "      <td>US Army test autonomous flight system for use ...</td>\n",
       "      <td>NaN</td>\n",
       "      <td>Design Products &amp; Applications</td>\n",
       "      <td>now in phase 3, the sikorsky engineers develop...</td>\n",
       "      <td>&lt;p&gt;Now in Phase 3, the Sikorsky engineers deve...</td>\n",
       "      <td>Military</td>\n",
       "      <td>1</td>\n",
       "    </tr>\n",
       "    <tr>\n",
       "      <th>2498</th>\n",
       "      <td>fd4d2d80-cd90-4555-9f77-b186eb5a1f51</td>\n",
       "      <td>Questions About eVTOL Practicality Remain</td>\n",
       "      <td>NaN</td>\n",
       "      <td>AOPA</td>\n",
       "      <td>bell and garmin announced oct. 2 they are team...</td>\n",
       "      <td>&lt;p&gt;Bell and Garmin announced Oct. 2 they are t...</td>\n",
       "      <td>Commercial</td>\n",
       "      <td>1</td>\n",
       "    </tr>\n",
       "  </tbody>\n",
       "</table>\n",
       "</div>"
      ],
      "text/plain": [
       "                                        Id  \\\n",
       "2851  4ce04c2a-a946-4365-bb80-97585146c430   \n",
       "594   c3df1ef3-df1f-4442-bb95-0f1c096665a4   \n",
       "11    e1902fb9-ba3e-4262-a94e-302ecdeebfba   \n",
       "1669  bd90f827-ca86-461a-8767-cc444fb089f5   \n",
       "2498  fd4d2d80-cd90-4555-9f77-b186eb5a1f51   \n",
       "\n",
       "                                                Heading  \\\n",
       "2851  Apache Deliveries Sharply Lower Pending Safety...   \n",
       "594      Mercedes Vision URBANETIC Unveiled at CES 2019   \n",
       "11    Bell Nexus full-scale air taxi design debuts, ...   \n",
       "1669  US Army test autonomous flight system for use ...   \n",
       "2498          Questions About eVTOL Practicality Remain   \n",
       "\n",
       "                                   Article.Banner.Image  \\\n",
       "2851  https://www.flightglobal.com/assets/getasset.a...   \n",
       "594   https://www.geeky-gadgets.com/wp-content/uploa...   \n",
       "11    https://www.sae.org/binaries/content/gallery/c...   \n",
       "1669                                                NaN   \n",
       "2498                                                NaN   \n",
       "\n",
       "                             Outlets  \\\n",
       "2851                    FlightGlobal   \n",
       "594                    Geeky Gadgets   \n",
       "11                 SAE International   \n",
       "1669  Design Products & Applications   \n",
       "2498                            AOPA   \n",
       "\n",
       "                                    Article.Description  \\\n",
       "2851  boeing has replaced about 25 percent of the st...   \n",
       "594   mercedes benz has unveiled a new concept car a...   \n",
       "11    bell, safran, eps, thales, moog, and garmin co...   \n",
       "1669  now in phase 3, the sikorsky engineers develop...   \n",
       "2498  bell and garmin announced oct. 2 they are team...   \n",
       "\n",
       "                                           Full_Article Article_Type  Tonality  \n",
       "2851  <p>Boeing has replaced about 25 percent of the...     Military         0  \n",
       "594   <p>Mercedes Benz has unveiled a new concept ca...   Commercial         1  \n",
       "11    <p>Bell, Safran, EPS, Thales, Moog, and Garmin...   Commercial         1  \n",
       "1669  <p>Now in Phase 3, the Sikorsky engineers deve...     Military         1  \n",
       "2498  <p>Bell and Garmin announced Oct. 2 they are t...   Commercial         1  "
      ]
     },
     "execution_count": 3,
     "metadata": {},
     "output_type": "execute_result"
    }
   ],
   "source": [
    "# Removing duplicates\n",
    "train_df.drop_duplicates('Article.Description', keep='first')\n",
    "\n",
    "# text cleaning\n",
    "def preprocess(text):\n",
    "    new_text = []\n",
    "\n",
    "    for t in text.split(\" \"):\n",
    "        t = '' if t.startswith('@') and len(t) > 1 else t\n",
    "        t = '' if t.startswith('http') else t\n",
    "        t = t.replace(\"<p>\",\"\")\n",
    "        t = t.replace(\"#\",\"\")\n",
    "        new_text.append(t.lower())\n",
    "    return \" \".join(new_text).strip().replace(\"  \", \" \")\n",
    "\n",
    "\n",
    "train_df['Article.Description'] = train_df['Article.Description'].apply(preprocess)\n",
    "train_df.head()"
   ]
  },
  {
   "cell_type": "markdown",
   "metadata": {},
   "source": [
    "### Fine Tuning BERT"
   ]
  },
  {
   "cell_type": "code",
   "execution_count": 4,
   "metadata": {},
   "outputs": [
    {
     "name": "stderr",
     "output_type": "stream",
     "text": [
      "c:\\Python310\\lib\\site-packages\\transformers\\tokenization_utils_base.py:1601: FutureWarning: `clean_up_tokenization_spaces` was not set. It will be set to `True` by default. This behavior will be depracted in transformers v4.45, and will be then set to `False` by default. For more details check this issue: https://github.com/huggingface/transformers/issues/31884\n",
      "  warnings.warn(\n"
     ]
    }
   ],
   "source": [
    "# BERT tokenizer\n",
    "tokenizer = BertTokenizer.from_pretrained('bert-base-uncased', do_lower_case=True)\n",
    "\n",
    "\n",
    "SEQ_LEN = 128\n",
    "# encoding the training data\n",
    "train_encoded_inputs = tokenizer(train_df['Article.Description'].tolist(),\n",
    "                                 add_special_tokens = True,\n",
    "                                 padding='max_length', \n",
    "                                 truncation=True, \n",
    "                                 max_length=SEQ_LEN, \n",
    "                                 return_token_type_ids=False,\n",
    "                                 return_tensors = 'tf')"
   ]
  },
  {
   "cell_type": "markdown",
   "metadata": {},
   "source": [
    "## Creating Tensorflow data"
   ]
  },
  {
   "cell_type": "code",
   "execution_count": 5,
   "metadata": {},
   "outputs": [],
   "source": [
    "train_dataset = tf.data.Dataset.from_tensor_slices((train_encoded_inputs, train_df['Tonality'].values))\n",
    "\n",
    "# formatting the data as required by bert model\n",
    "def format_bert(inputs, labels):\n",
    "  inputs = {'input_ids': inputs['input_ids'],\n",
    "            'attention_mask': inputs['attention_mask']}\n",
    "  \n",
    "  return inputs, labels\n",
    "\n",
    "train_dataset = train_dataset.map(format_bert)"
   ]
  },
  {
   "cell_type": "markdown",
   "metadata": {},
   "source": [
    "#### Creating train and test split"
   ]
  },
  {
   "cell_type": "code",
   "execution_count": 6,
   "metadata": {},
   "outputs": [],
   "source": [
    "dataset = train_dataset.shuffle(100000).batch(64)\n",
    "\n",
    "# length of the dataset(total batches)\n",
    "DS_LEN = len(dataset)\n",
    "\n",
    "# take 80% for train and 20% for validation\n",
    "SPLIT = 0.8\n",
    "train_ds = dataset.take(round(DS_LEN*SPLIT))\n",
    "val_ds = dataset.skip(round(DS_LEN*SPLIT))"
   ]
  },
  {
   "cell_type": "markdown",
   "metadata": {},
   "source": [
    "### MODEL"
   ]
  },
  {
   "cell_type": "code",
   "execution_count": 7,
   "metadata": {},
   "outputs": [
    {
     "name": "stderr",
     "output_type": "stream",
     "text": [
      "Some weights of the PyTorch model were not used when initializing the TF 2.0 model TFBertModel: ['cls.seq_relationship.bias', 'cls.predictions.transform.dense.bias', 'cls.predictions.transform.LayerNorm.weight', 'cls.predictions.transform.LayerNorm.bias', 'cls.predictions.bias', 'cls.seq_relationship.weight', 'cls.predictions.transform.dense.weight']\n",
      "- This IS expected if you are initializing TFBertModel from a PyTorch model trained on another task or with another architecture (e.g. initializing a TFBertForSequenceClassification model from a BertForPreTraining model).\n",
      "- This IS NOT expected if you are initializing TFBertModel from a PyTorch model that you expect to be exactly identical (e.g. initializing a TFBertForSequenceClassification model from a BertForSequenceClassification model).\n",
      "All the weights of TFBertModel were initialized from the PyTorch model.\n",
      "If your task is similar to the task the model of the checkpoint was trained on, you can already use TFBertModel for predictions without further training.\n"
     ]
    },
    {
     "name": "stdout",
     "output_type": "stream",
     "text": [
      "Model: \"model\"\n",
      "__________________________________________________________________________________________________\n",
      " Layer (type)                   Output Shape         Param #     Connected to                     \n",
      "==================================================================================================\n",
      " input_ids (InputLayer)         [(None, 128)]        0           []                               \n",
      "                                                                                                  \n",
      " attention_mask (InputLayer)    [(None, 128)]        0           []                               \n",
      "                                                                                                  \n",
      " tf_bert_model (TFBertModel)    TFBaseModelOutputWi  109482240   ['input_ids[0][0]',              \n",
      "                                thPoolingAndCrossAt               'attention_mask[0][0]']         \n",
      "                                tentions(last_hidde                                               \n",
      "                                n_state=(None, 128,                                               \n",
      "                                 768),                                                            \n",
      "                                 pooler_output=(Non                                               \n",
      "                                e, 768),                                                          \n",
      "                                 past_key_values=No                                               \n",
      "                                ne, hidden_states=N                                               \n",
      "                                one, attentions=Non                                               \n",
      "                                e, cross_attentions                                               \n",
      "                                =None)                                                            \n",
      "                                                                                                  \n",
      " tf.__operators__.getitem (Slic  (None, 768)         0           ['tf_bert_model[0][0]']          \n",
      " ingOpLambda)                                                                                     \n",
      "                                                                                                  \n",
      " batch_normalization (BatchNorm  (None, 768)         3072        ['tf.__operators__.getitem[0][0]'\n",
      " alization)                                                      ]                                \n",
      "                                                                                                  \n",
      " dense (Dense)                  (None, 128)          98432       ['batch_normalization[0][0]']    \n",
      "                                                                                                  \n",
      " dropout_37 (Dropout)           (None, 128)          0           ['dense[0][0]']                  \n",
      "                                                                                                  \n",
      " dense_1 (Dense)                (None, 32)           4128        ['dropout_37[0][0]']             \n",
      "                                                                                                  \n",
      " dense_2 (Dense)                (None, 1)            33          ['dense_1[0][0]']                \n",
      "                                                                                                  \n",
      "==================================================================================================\n",
      "Total params: 109,587,905\n",
      "Trainable params: 104,129\n",
      "Non-trainable params: 109,483,776\n",
      "__________________________________________________________________________________________________\n"
     ]
    }
   ],
   "source": [
    "# BERT MODEL\n",
    "bert = TFAutoModel.from_pretrained('bert-base-uncased')\n",
    "\n",
    "# create model architecture\n",
    "\n",
    "# Input layers\n",
    "input_ids = tf.keras.layers.Input(shape=(SEQ_LEN,), dtype=np.int32, name='input_ids' )\n",
    "mask = tf.keras.layers.Input(shape=(SEQ_LEN,), dtype=np.int32, name = 'attention_mask')\n",
    "\n",
    "# bert embeddings\n",
    "embeddings = bert([input_ids, mask])[0]\n",
    "cls_token = embeddings[:,0,:]\n",
    "\n",
    "# keras layers\n",
    "x = tf.keras.layers.GlobalMaxPool1D()(embeddings)\n",
    "x = tf.keras.layers.BatchNormalization()(cls_token)\n",
    "x = tf.keras.layers.Dense(128, activation='relu')(x)\n",
    "x = tf.keras.layers.Dropout(0.2)(x)\n",
    "x = tf.keras.layers.Dense(32, activation='relu')(x)\n",
    "\n",
    "# output layer\n",
    "y = tf.keras.layers.Dense(1, activation='sigmoid')(x)\n",
    "\n",
    "# create the model\n",
    "model = tf.keras.Model(inputs=[input_ids, mask], outputs=y)\n",
    "\n",
    "# freezing the pretrained bert layer\n",
    "model.layers[2].trainable = False\n",
    "model.summary()"
   ]
  },
  {
   "cell_type": "markdown",
   "metadata": {},
   "source": [
    "##### Training PARAMETER"
   ]
  },
  {
   "cell_type": "code",
   "execution_count": 8,
   "metadata": {},
   "outputs": [],
   "source": [
    "#learning_rate = 1e-3, 5e-4\n",
    "\n",
    "optimizer = tf.keras.optimizers.Adam(learning_rate=1e-3)\n",
    "loss = tf.keras.losses.BinaryCrossentropy()\n",
    "metric = tf.keras.metrics.BinaryAccuracy('accuracy')\n",
    "\n",
    "model.compile(optimizer=optimizer, loss=loss, metrics=[metric])"
   ]
  },
  {
   "cell_type": "markdown",
   "metadata": {},
   "source": [
    "### MODEL TRAINING"
   ]
  },
  {
   "cell_type": "code",
   "execution_count": 9,
   "metadata": {},
   "outputs": [
    {
     "name": "stdout",
     "output_type": "stream",
     "text": [
      "Epoch 1/20\n",
      "39/39 [==============================] - 34s 612ms/step - loss: 0.3334 - accuracy: 0.8658 - val_loss: 0.2579 - val_accuracy: 0.9186 - lr: 0.0010\n",
      "Epoch 2/20\n",
      "39/39 [==============================] - 21s 541ms/step - loss: 0.2095 - accuracy: 0.9259 - val_loss: 0.2264 - val_accuracy: 0.9203 - lr: 0.0010\n",
      "Epoch 3/20\n",
      "39/39 [==============================] - 21s 539ms/step - loss: 0.1877 - accuracy: 0.9295 - val_loss: 0.1975 - val_accuracy: 0.9369 - lr: 0.0010\n",
      "Epoch 4/20\n",
      "39/39 [==============================] - 21s 539ms/step - loss: 0.1823 - accuracy: 0.9359 - val_loss: 0.1670 - val_accuracy: 0.9502 - lr: 0.0010\n",
      "Epoch 5/20\n",
      "39/39 [==============================] - 21s 536ms/step - loss: 0.1653 - accuracy: 0.9403 - val_loss: 0.1187 - val_accuracy: 0.9668 - lr: 0.0010\n",
      "Epoch 6/20\n",
      "39/39 [==============================] - 21s 551ms/step - loss: 0.1485 - accuracy: 0.9475 - val_loss: 0.1114 - val_accuracy: 0.9668 - lr: 0.0010\n",
      "Epoch 7/20\n",
      "39/39 [==============================] - 21s 544ms/step - loss: 0.1251 - accuracy: 0.9511 - val_loss: 0.0966 - val_accuracy: 0.9718 - lr: 0.0010\n",
      "Epoch 8/20\n",
      "39/39 [==============================] - 21s 540ms/step - loss: 0.1299 - accuracy: 0.9519 - val_loss: 0.0868 - val_accuracy: 0.9701 - lr: 0.0010\n",
      "Epoch 9/20\n",
      "39/39 [==============================] - 21s 529ms/step - loss: 0.1216 - accuracy: 0.9531 - val_loss: 0.0877 - val_accuracy: 0.9601 - lr: 0.0010\n",
      "Epoch 10/20\n",
      "39/39 [==============================] - 21s 529ms/step - loss: 0.1237 - accuracy: 0.9523 - val_loss: 0.0781 - val_accuracy: 0.9734 - lr: 0.0010\n",
      "Epoch 11/20\n",
      "39/39 [==============================] - 21s 528ms/step - loss: 0.1087 - accuracy: 0.9615 - val_loss: 0.0590 - val_accuracy: 0.9751 - lr: 0.0010\n",
      "Epoch 12/20\n",
      "39/39 [==============================] - 21s 547ms/step - loss: 0.1072 - accuracy: 0.9543 - val_loss: 0.0535 - val_accuracy: 0.9834 - lr: 0.0010\n",
      "Epoch 13/20\n",
      "39/39 [==============================] - 20s 527ms/step - loss: 0.1058 - accuracy: 0.9623 - val_loss: 0.0535 - val_accuracy: 0.9867 - lr: 0.0010\n",
      "Epoch 14/20\n",
      "39/39 [==============================] - 20s 521ms/step - loss: 0.1111 - accuracy: 0.9559 - val_loss: 0.0480 - val_accuracy: 0.9884 - lr: 0.0010\n",
      "Epoch 15/20\n",
      "39/39 [==============================] - 20s 512ms/step - loss: 0.0927 - accuracy: 0.9643 - val_loss: 0.0447 - val_accuracy: 0.9817 - lr: 0.0010\n",
      "Epoch 16/20\n",
      "39/39 [==============================] - 20s 510ms/step - loss: 0.0840 - accuracy: 0.9675 - val_loss: 0.0453 - val_accuracy: 0.9867 - lr: 0.0010\n",
      "Epoch 17/20\n",
      "39/39 [==============================] - 20s 514ms/step - loss: 0.0760 - accuracy: 0.9728 - val_loss: 0.0280 - val_accuracy: 0.9934 - lr: 0.0010\n",
      "Epoch 18/20\n",
      "39/39 [==============================] - 20s 517ms/step - loss: 0.0866 - accuracy: 0.9688 - val_loss: 0.0346 - val_accuracy: 0.9884 - lr: 0.0010\n",
      "Epoch 19/20\n",
      "39/39 [==============================] - 21s 544ms/step - loss: 0.0797 - accuracy: 0.9740 - val_loss: 0.0392 - val_accuracy: 0.9934 - lr: 0.0010\n",
      "Epoch 20/20\n",
      "39/39 [==============================] - 20s 528ms/step - loss: 0.0771 - accuracy: 0.9724 - val_loss: 0.0242 - val_accuracy: 0.9967 - lr: 1.0000e-04\n"
     ]
    },
    {
     "name": "stderr",
     "output_type": "stream",
     "text": [
      "WARNING:absl:Found untraced functions such as serving, embeddings_layer_call_fn, embeddings_layer_call_and_return_conditional_losses, encoder_layer_call_fn, encoder_layer_call_and_return_conditional_losses while saving (showing 5 of 421). These functions will not be directly callable after loading.\n"
     ]
    },
    {
     "name": "stdout",
     "output_type": "stream",
     "text": [
      "INFO:tensorflow:Assets written to: TextClassifier.model\\assets\n"
     ]
    },
    {
     "name": "stderr",
     "output_type": "stream",
     "text": [
      "INFO:tensorflow:Assets written to: TextClassifier.model\\assets\n"
     ]
    }
   ],
   "source": [
    "# train the model\n",
    "callbacks = [tf.keras.callbacks.ReduceLROnPlateau(patience=2, factor=0.1,min_delta=0.001,monitor='val_loss')]\n",
    "\n",
    "history = model.fit(\n",
    "    train_ds,\n",
    "    validation_data = val_ds,\n",
    "    epochs = 20,\n",
    "    callbacks = callbacks\n",
    ")\n",
    "\n",
    "\n",
    "## SAVE MODEL\n",
    "model.save('TextClassifier.model')"
   ]
  },
  {
   "cell_type": "code",
   "execution_count": 10,
   "metadata": {},
   "outputs": [
    {
     "data": {
      "image/png": "[encoded data removed]",
      "text/plain": [
       "<Figure size 1500x600 with 2 Axes>"
      ]
     },
     "metadata": {},
     "output_type": "display_data"
    }
   ],
   "source": [
    "# plot the performance curve\n",
    "epochs = history.epoch\n",
    "plt.figure(figsize=(15, 6))\n",
    "\n",
    "# Accuracy\n",
    "plt.subplot(1,2, 1)\n",
    "plt.plot(epochs, history.history['accuracy'], label=\"Train\")\n",
    "plt.plot(epochs, history.history['val_accuracy'], label = \"Val\")\n",
    "plt.legend()\n",
    "plt.title(\"Accuracy\")\n",
    "\n",
    "# loss\n",
    "plt.subplot(1,2, 2)\n",
    "plt.plot(epochs, history.history['loss'], label=\"Train\")\n",
    "plt.plot(epochs, history.history['val_loss'], label = \"Val\")\n",
    "plt.legend()\n",
    "plt.title(\"Loss\")\n",
    "\n",
    "plt.show()"
   ]
  },
  {
   "cell_type": "code",
   "execution_count": 11,
   "metadata": {},
   "outputs": [
    {
     "name": "stdout",
     "output_type": "stream",
     "text": [
      "10/10 [==============================] - 4s 372ms/step - loss: 0.0319 - accuracy: 0.9917\n"
     ]
    },
    {
     "data": {
      "text/plain": [
       "[0.031942907720804214, 0.9916943311691284]"
      ]
     },
     "execution_count": 11,
     "metadata": {},
     "output_type": "execute_result"
    }
   ],
   "source": [
    "# evaluate on val data\n",
    "model.evaluate(val_ds)"
   ]
  },
  {
   "cell_type": "markdown",
   "metadata": {},
   "source": [
    "### Make prediction for test data"
   ]
  },
  {
   "cell_type": "code",
   "execution_count": 12,
   "metadata": {},
   "outputs": [],
   "source": [
    "test_df = pd.read_csv('test_df.csv')\n",
    "\n",
    "# clean text\n",
    "test_df['Article.Description'] = test_df['Article.Description'].apply(preprocess)\n",
    "\n",
    "# encoding the test data\n",
    "test_encoded_inputs = tokenizer(test_df['Article.Description'].tolist(),\n",
    "                                 add_special_tokens = True,\n",
    "                                 padding='max_length', \n",
    "                                 truncation=True, \n",
    "                                 max_length=SEQ_LEN, \n",
    "                                 return_token_type_ids=False,\n",
    "                                 return_tensors = 'tf')\n",
    "\n",
    "# create tf dataset\n",
    "test_dataset = tf.data.Dataset.from_tensor_slices(dict(test_encoded_inputs))"
   ]
  },
  {
   "cell_type": "code",
   "execution_count": 13,
   "metadata": {},
   "outputs": [
    {
     "name": "stdout",
     "output_type": "stream",
     "text": [
      "25/25 [==============================] - 8s 198ms/step\n"
     ]
    }
   ],
   "source": [
    "# make prediction\n",
    "test_ds = test_dataset.shuffle(100000).batch(32)\n",
    "test_pred = model.predict(test_ds)"
   ]
  },
  {
   "cell_type": "code",
   "execution_count": 14,
   "metadata": {},
   "outputs": [],
   "source": [
    "# create the target labels for test data\n",
    "test_target = np.round(test_pred).flatten()"
   ]
  },
  {
   "cell_type": "code",
   "execution_count": 18,
   "metadata": {},
   "outputs": [
    {
     "data": {
      "text/html": [
       "<div>\n",
       "<style scoped>\n",
       "    .dataframe tbody tr th:only-of-type {\n",
       "        vertical-align: middle;\n",
       "    }\n",
       "\n",
       "    .dataframe tbody tr th {\n",
       "        vertical-align: top;\n",
       "    }\n",
       "\n",
       "    .dataframe thead th {\n",
       "        text-align: right;\n",
       "    }\n",
       "</style>\n",
       "<table border=\"1\" class=\"dataframe\">\n",
       "  <thead>\n",
       "    <tr style=\"text-align: right;\">\n",
       "      <th></th>\n",
       "      <th>Unnamed: 0</th>\n",
       "      <th>Id</th>\n",
       "      <th>Heading</th>\n",
       "      <th>Article.Banner.Image</th>\n",
       "      <th>Outlets</th>\n",
       "      <th>Article.Description</th>\n",
       "      <th>Full_Article</th>\n",
       "      <th>Article_Type</th>\n",
       "      <th>Tonality</th>\n",
       "    </tr>\n",
       "  </thead>\n",
       "  <tbody>\n",
       "    <tr>\n",
       "      <th>0</th>\n",
       "      <td>603</td>\n",
       "      <td>76f6cf4b-221a-46f8-8144-e845aaf8fd35</td>\n",
       "      <td>Mercedes-Benz Vans Showcases Vision Urbanetic ...</td>\n",
       "      <td>http://www.autocarpro.in/userfiles/8df835ef-8a...</td>\n",
       "      <td>Autocar professional</td>\n",
       "      <td>german car major, mercedes-benz vans presented...</td>\n",
       "      <td>&lt;p&gt;German car major, Mercedes-Benz Vans presen...</td>\n",
       "      <td>Commercial</td>\n",
       "      <td>Positive</td>\n",
       "    </tr>\n",
       "    <tr>\n",
       "      <th>1</th>\n",
       "      <td>2115</td>\n",
       "      <td>0a4a411a-21c3-42ea-82c6-1e756bed0890</td>\n",
       "      <td>Bell-Boeing Joint Project Awarded $21M Contrac...</td>\n",
       "      <td>NaN</td>\n",
       "      <td>HeliHub.com</td>\n",
       "      <td>bell-boeing joint project office, amarillo, te...</td>\n",
       "      <td>&lt;p&gt;Bell-Boeing Joint Project Office, Amarillo,...</td>\n",
       "      <td>Military</td>\n",
       "      <td>Positive</td>\n",
       "    </tr>\n",
       "    <tr>\n",
       "      <th>2</th>\n",
       "      <td>590</td>\n",
       "      <td>6134156d-2cc7-4314-b631-bea39fab0dbd</td>\n",
       "      <td>Mercedes-Benz Urbanetic Concept: North America...</td>\n",
       "      <td>https://i.gaw.to/content/photos/36/19/361922_2...</td>\n",
       "      <td>Guide Auto</td>\n",
       "      <td>along with the highly-anticipated eqc all-elec...</td>\n",
       "      <td>&lt;p&gt;Along with the highly-anticipated EQC all-e...</td>\n",
       "      <td>Commercial</td>\n",
       "      <td>Positive</td>\n",
       "    </tr>\n",
       "    <tr>\n",
       "      <th>3</th>\n",
       "      <td>308</td>\n",
       "      <td>0d7b6c74-f4a1-481c-968c-ca890ac6848f</td>\n",
       "      <td>CES 2019 transports you to the future</td>\n",
       "      <td>https://im.rediff.com/money/2019/jan/10ces-aut...</td>\n",
       "      <td>Rediff.com</td>\n",
       "      <td>bell nexus is a vertical take-off and landing ...</td>\n",
       "      <td>&lt;p&gt;Bell Nexus is a vertical take-off and landi...</td>\n",
       "      <td>Commercial</td>\n",
       "      <td>Positive</td>\n",
       "    </tr>\n",
       "    <tr>\n",
       "      <th>4</th>\n",
       "      <td>2859</td>\n",
       "      <td>8affeb0b-ca96-40cd-b7de-85856c03d6f3</td>\n",
       "      <td>Helibras Delivers Two H135s to Líder Aviação</td>\n",
       "      <td>https://www.stanstednews.com/gallery/1019.jpg</td>\n",
       "      <td>Business Air News</td>\n",
       "      <td>helibras announced the delivery of two h135 he...</td>\n",
       "      <td>&lt;p&gt;Helibras announced the delivery of two H135...</td>\n",
       "      <td>Commercial</td>\n",
       "      <td>Positive</td>\n",
       "    </tr>\n",
       "    <tr>\n",
       "      <th>5</th>\n",
       "      <td>2332</td>\n",
       "      <td>aee2af86-e060-4b76-ad95-93679d984429</td>\n",
       "      <td>McChord AFB represents USAF in Ample Strike, N...</td>\n",
       "      <td>NaN</td>\n",
       "      <td>AF.mil</td>\n",
       "      <td>the uh-1y and 10 marines were transported to t...</td>\n",
       "      <td>&lt;p&gt;The UH-1Y and 10 Marines were transported t...</td>\n",
       "      <td>Military</td>\n",
       "      <td>Negative</td>\n",
       "    </tr>\n",
       "  </tbody>\n",
       "</table>\n",
       "</div>"
      ],
      "text/plain": [
       "   Unnamed: 0                                    Id  \\\n",
       "0         603  76f6cf4b-221a-46f8-8144-e845aaf8fd35   \n",
       "1        2115  0a4a411a-21c3-42ea-82c6-1e756bed0890   \n",
       "2         590  6134156d-2cc7-4314-b631-bea39fab0dbd   \n",
       "3         308  0d7b6c74-f4a1-481c-968c-ca890ac6848f   \n",
       "4        2859  8affeb0b-ca96-40cd-b7de-85856c03d6f3   \n",
       "5        2332  aee2af86-e060-4b76-ad95-93679d984429   \n",
       "\n",
       "                                             Heading  \\\n",
       "0  Mercedes-Benz Vans Showcases Vision Urbanetic ...   \n",
       "1  Bell-Boeing Joint Project Awarded $21M Contrac...   \n",
       "2  Mercedes-Benz Urbanetic Concept: North America...   \n",
       "3              CES 2019 transports you to the future   \n",
       "4       Helibras Delivers Two H135s to Líder Aviação   \n",
       "5  McChord AFB represents USAF in Ample Strike, N...   \n",
       "\n",
       "                                Article.Banner.Image               Outlets  \\\n",
       "0  http://www.autocarpro.in/userfiles/8df835ef-8a...  Autocar professional   \n",
       "1                                                NaN           HeliHub.com   \n",
       "2  https://i.gaw.to/content/photos/36/19/361922_2...            Guide Auto   \n",
       "3  https://im.rediff.com/money/2019/jan/10ces-aut...            Rediff.com   \n",
       "4      https://www.stanstednews.com/gallery/1019.jpg     Business Air News   \n",
       "5                                                NaN                AF.mil   \n",
       "\n",
       "                                 Article.Description  \\\n",
       "0  german car major, mercedes-benz vans presented...   \n",
       "1  bell-boeing joint project office, amarillo, te...   \n",
       "2  along with the highly-anticipated eqc all-elec...   \n",
       "3  bell nexus is a vertical take-off and landing ...   \n",
       "4  helibras announced the delivery of two h135 he...   \n",
       "5  the uh-1y and 10 marines were transported to t...   \n",
       "\n",
       "                                        Full_Article Article_Type  Tonality  \n",
       "0  <p>German car major, Mercedes-Benz Vans presen...   Commercial  Positive  \n",
       "1  <p>Bell-Boeing Joint Project Office, Amarillo,...     Military  Positive  \n",
       "2  <p>Along with the highly-anticipated EQC all-e...   Commercial  Positive  \n",
       "3  <p>Bell Nexus is a vertical take-off and landi...   Commercial  Positive  \n",
       "4  <p>Helibras announced the delivery of two H135...   Commercial  Positive  \n",
       "5  <p>The UH-1Y and 10 Marines were transported t...     Military  Negative  "
      ]
     },
     "execution_count": 18,
     "metadata": {},
     "output_type": "execute_result"
    }
   ],
   "source": [
    "test_df['Tonality'] = test_target.astype('int')\n",
    "test_df ['Tonality'] = test_df['Tonality'].map({1 :'Positive', 0:'Negative',3: 'Neutral'})\n",
    "test_df.head(6)"
   ]
  }
 ],
 "metadata": {
  "kernelspec": {
   "display_name": "Python 3",
   "language": "python",
   "name": "python3"
  },
  "language_info": {
   "codemirror_mode": {
    "name": "ipython",
    "version": 3
   },
   "file_extension": ".py",
   "mimetype": "text/x-python",
   "name": "python",
   "nbconvert_exporter": "python",
   "pygments_lexer": "ipython3",
   "version": "3.10.11"
  }
 },
 "nbformat": 4,
 "nbformat_minor": 2
}
